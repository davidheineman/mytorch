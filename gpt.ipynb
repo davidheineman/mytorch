{
 "cells": [
  {
   "cell_type": "code",
   "execution_count": null,
   "metadata": {},
   "outputs": [],
   "source": [
    "from gpt import load_dataset\n",
    "\n",
    "def format_review(row):\n",
    "  return {\"text\": f\"{row['translation']['eng']}[SEP]{row['translation']['engyay']}[END]\"}\n",
    "\n",
    "dataset = load_dataset(\"cdleong/piglatin-mt\")[\"train\"]\n",
    "data = [row[\"text\"] for row in dataset.map(format_review).to_list()]"
   ]
  }
 ],
 "metadata": {
  "language_info": {
   "name": "python"
  }
 },
 "nbformat": 4,
 "nbformat_minor": 2
}
